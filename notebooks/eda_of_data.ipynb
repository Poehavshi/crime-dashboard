{
 "cells": [
  {
   "cell_type": "code",
   "execution_count": 74,
   "metadata": {
    "collapsed": true,
    "pycharm": {
     "name": "#%%\n"
    }
   },
   "outputs": [],
   "source": [
    "import pandas as pd"
   ]
  },
  {
   "cell_type": "markdown",
   "source": [
    "# Climate data per state"
   ],
   "metadata": {
    "collapsed": false,
    "pycharm": {
     "name": "#%% md\n"
    }
   }
  },
  {
   "cell_type": "code",
   "execution_count": 75,
   "outputs": [
    {
     "data": {
      "text/plain": "                dt  AverageTemperature  AverageTemperatureUncertainty  \\\n645665  2012-12-01               6.633                          0.437   \n645666  2013-01-01               5.120                          0.393   \n645667  2013-02-01               7.867                          0.490   \n645668  2013-03-01              12.116                          0.345   \n645669  2013-04-01              15.710                          0.461   \n645670  2013-05-01              21.634                          0.578   \n645671  2013-06-01              24.679                          0.596   \n645672  2013-07-01              29.272                          1.340   \n645673  2013-08-01              29.202                          0.869   \n645674  2013-09-01                 NaN                            NaN   \n\n           State Country  \n645665  Zhejiang   China  \n645666  Zhejiang   China  \n645667  Zhejiang   China  \n645668  Zhejiang   China  \n645669  Zhejiang   China  \n645670  Zhejiang   China  \n645671  Zhejiang   China  \n645672  Zhejiang   China  \n645673  Zhejiang   China  \n645674  Zhejiang   China  ",
      "text/html": "<div>\n<style scoped>\n    .dataframe tbody tr th:only-of-type {\n        vertical-align: middle;\n    }\n\n    .dataframe tbody tr th {\n        vertical-align: top;\n    }\n\n    .dataframe thead th {\n        text-align: right;\n    }\n</style>\n<table border=\"1\" class=\"dataframe\">\n  <thead>\n    <tr style=\"text-align: right;\">\n      <th></th>\n      <th>dt</th>\n      <th>AverageTemperature</th>\n      <th>AverageTemperatureUncertainty</th>\n      <th>State</th>\n      <th>Country</th>\n    </tr>\n  </thead>\n  <tbody>\n    <tr>\n      <th>645665</th>\n      <td>2012-12-01</td>\n      <td>6.633</td>\n      <td>0.437</td>\n      <td>Zhejiang</td>\n      <td>China</td>\n    </tr>\n    <tr>\n      <th>645666</th>\n      <td>2013-01-01</td>\n      <td>5.120</td>\n      <td>0.393</td>\n      <td>Zhejiang</td>\n      <td>China</td>\n    </tr>\n    <tr>\n      <th>645667</th>\n      <td>2013-02-01</td>\n      <td>7.867</td>\n      <td>0.490</td>\n      <td>Zhejiang</td>\n      <td>China</td>\n    </tr>\n    <tr>\n      <th>645668</th>\n      <td>2013-03-01</td>\n      <td>12.116</td>\n      <td>0.345</td>\n      <td>Zhejiang</td>\n      <td>China</td>\n    </tr>\n    <tr>\n      <th>645669</th>\n      <td>2013-04-01</td>\n      <td>15.710</td>\n      <td>0.461</td>\n      <td>Zhejiang</td>\n      <td>China</td>\n    </tr>\n    <tr>\n      <th>645670</th>\n      <td>2013-05-01</td>\n      <td>21.634</td>\n      <td>0.578</td>\n      <td>Zhejiang</td>\n      <td>China</td>\n    </tr>\n    <tr>\n      <th>645671</th>\n      <td>2013-06-01</td>\n      <td>24.679</td>\n      <td>0.596</td>\n      <td>Zhejiang</td>\n      <td>China</td>\n    </tr>\n    <tr>\n      <th>645672</th>\n      <td>2013-07-01</td>\n      <td>29.272</td>\n      <td>1.340</td>\n      <td>Zhejiang</td>\n      <td>China</td>\n    </tr>\n    <tr>\n      <th>645673</th>\n      <td>2013-08-01</td>\n      <td>29.202</td>\n      <td>0.869</td>\n      <td>Zhejiang</td>\n      <td>China</td>\n    </tr>\n    <tr>\n      <th>645674</th>\n      <td>2013-09-01</td>\n      <td>NaN</td>\n      <td>NaN</td>\n      <td>Zhejiang</td>\n      <td>China</td>\n    </tr>\n  </tbody>\n</table>\n</div>"
     },
     "execution_count": 75,
     "metadata": {},
     "output_type": "execute_result"
    }
   ],
   "source": [
    "climate_data_per_state = pd.read_csv(\"../data/raw_data/climate/GlobalLandTemperaturesByState.csv\")\n",
    "climate_data_per_state.tail(10)"
   ],
   "metadata": {
    "collapsed": false,
    "pycharm": {
     "name": "#%%\n"
    }
   }
  },
  {
   "cell_type": "code",
   "execution_count": 76,
   "outputs": [
    {
     "data": {
      "text/plain": "(645675, 5)"
     },
     "execution_count": 76,
     "metadata": {},
     "output_type": "execute_result"
    }
   ],
   "source": [
    "climate_data_per_state.shape"
   ],
   "metadata": {
    "collapsed": false,
    "pycharm": {
     "name": "#%%\n"
    }
   }
  },
  {
   "cell_type": "code",
   "execution_count": 77,
   "outputs": [
    {
     "data": {
      "text/plain": "array(['Brazil', 'Russia', 'United States', 'Canada', 'India', 'China',\n       'Australia'], dtype=object)"
     },
     "execution_count": 77,
     "metadata": {},
     "output_type": "execute_result"
    }
   ],
   "source": [
    "climate_data_per_state.Country.unique()"
   ],
   "metadata": {
    "collapsed": false,
    "pycharm": {
     "name": "#%%\n"
    }
   }
  },
  {
   "cell_type": "code",
   "execution_count": 78,
   "outputs": [
    {
     "data": {
      "text/plain": "                dt  AverageTemperature  AverageTemperatureUncertainty    State\n7458    1743-11-01              10.722                          2.898  Alabama\n7459    1743-12-01                 NaN                            NaN  Alabama\n7460    1744-01-01                 NaN                            NaN  Alabama\n7461    1744-02-01                 NaN                            NaN  Alabama\n7462    1744-03-01                 NaN                            NaN  Alabama\n...            ...                 ...                            ...      ...\n626435  2013-05-01              10.607                          0.208  Wyoming\n626436  2013-06-01              16.267                          0.276  Wyoming\n626437  2013-07-01              20.222                          0.133  Wyoming\n626438  2013-08-01              19.621                          0.217  Wyoming\n626439  2013-09-01              15.811                          1.101  Wyoming\n\n[149745 rows x 4 columns]",
      "text/html": "<div>\n<style scoped>\n    .dataframe tbody tr th:only-of-type {\n        vertical-align: middle;\n    }\n\n    .dataframe tbody tr th {\n        vertical-align: top;\n    }\n\n    .dataframe thead th {\n        text-align: right;\n    }\n</style>\n<table border=\"1\" class=\"dataframe\">\n  <thead>\n    <tr style=\"text-align: right;\">\n      <th></th>\n      <th>dt</th>\n      <th>AverageTemperature</th>\n      <th>AverageTemperatureUncertainty</th>\n      <th>State</th>\n    </tr>\n  </thead>\n  <tbody>\n    <tr>\n      <th>7458</th>\n      <td>1743-11-01</td>\n      <td>10.722</td>\n      <td>2.898</td>\n      <td>Alabama</td>\n    </tr>\n    <tr>\n      <th>7459</th>\n      <td>1743-12-01</td>\n      <td>NaN</td>\n      <td>NaN</td>\n      <td>Alabama</td>\n    </tr>\n    <tr>\n      <th>7460</th>\n      <td>1744-01-01</td>\n      <td>NaN</td>\n      <td>NaN</td>\n      <td>Alabama</td>\n    </tr>\n    <tr>\n      <th>7461</th>\n      <td>1744-02-01</td>\n      <td>NaN</td>\n      <td>NaN</td>\n      <td>Alabama</td>\n    </tr>\n    <tr>\n      <th>7462</th>\n      <td>1744-03-01</td>\n      <td>NaN</td>\n      <td>NaN</td>\n      <td>Alabama</td>\n    </tr>\n    <tr>\n      <th>...</th>\n      <td>...</td>\n      <td>...</td>\n      <td>...</td>\n      <td>...</td>\n    </tr>\n    <tr>\n      <th>626435</th>\n      <td>2013-05-01</td>\n      <td>10.607</td>\n      <td>0.208</td>\n      <td>Wyoming</td>\n    </tr>\n    <tr>\n      <th>626436</th>\n      <td>2013-06-01</td>\n      <td>16.267</td>\n      <td>0.276</td>\n      <td>Wyoming</td>\n    </tr>\n    <tr>\n      <th>626437</th>\n      <td>2013-07-01</td>\n      <td>20.222</td>\n      <td>0.133</td>\n      <td>Wyoming</td>\n    </tr>\n    <tr>\n      <th>626438</th>\n      <td>2013-08-01</td>\n      <td>19.621</td>\n      <td>0.217</td>\n      <td>Wyoming</td>\n    </tr>\n    <tr>\n      <th>626439</th>\n      <td>2013-09-01</td>\n      <td>15.811</td>\n      <td>1.101</td>\n      <td>Wyoming</td>\n    </tr>\n  </tbody>\n</table>\n<p>149745 rows × 4 columns</p>\n</div>"
     },
     "execution_count": 78,
     "metadata": {},
     "output_type": "execute_result"
    }
   ],
   "source": [
    "climate_data_per_state = climate_data_per_state[climate_data_per_state[\"Country\"] == \"United States\"]\n",
    "climate_data_per_state.drop(\"Country\", inplace=True, axis=1)\n",
    "climate_data_per_state"
   ],
   "metadata": {
    "collapsed": false,
    "pycharm": {
     "name": "#%%\n"
    }
   }
  },
  {
   "cell_type": "code",
   "execution_count": 79,
   "outputs": [],
   "source": [
    "climate_data_per_state = climate_data_per_state.reindex(columns=['dt', 'day', 'month', 'year','State','AverageTemperature','AverageTemperatureUncertainty'])"
   ],
   "metadata": {
    "collapsed": false,
    "pycharm": {
     "name": "#%%\n"
    }
   }
  },
  {
   "cell_type": "code",
   "execution_count": 80,
   "outputs": [
    {
     "data": {
      "text/plain": "        unique_key         dt  day  month  year    State  AverageTemperature  \\\n0             7458 1743-11-01    1     11  1743  Alabama              10.722   \n1             7459 1743-12-01    1     12  1743  Alabama                 NaN   \n2             7460 1744-01-01    1      1  1744  Alabama                 NaN   \n3             7461 1744-02-01    1      2  1744  Alabama                 NaN   \n4             7462 1744-03-01    1      3  1744  Alabama                 NaN   \n...            ...        ...  ...    ...   ...      ...                 ...   \n149740      626435 2013-05-01    1      5  2013  Wyoming              10.607   \n149741      626436 2013-06-01    1      6  2013  Wyoming              16.267   \n149742      626437 2013-07-01    1      7  2013  Wyoming              20.222   \n149743      626438 2013-08-01    1      8  2013  Wyoming              19.621   \n149744      626439 2013-09-01    1      9  2013  Wyoming              15.811   \n\n        AverageTemperatureUncertainty  \n0                               2.898  \n1                                 NaN  \n2                                 NaN  \n3                                 NaN  \n4                                 NaN  \n...                               ...  \n149740                          0.208  \n149741                          0.276  \n149742                          0.133  \n149743                          0.217  \n149744                          1.101  \n\n[149745 rows x 8 columns]",
      "text/html": "<div>\n<style scoped>\n    .dataframe tbody tr th:only-of-type {\n        vertical-align: middle;\n    }\n\n    .dataframe tbody tr th {\n        vertical-align: top;\n    }\n\n    .dataframe thead th {\n        text-align: right;\n    }\n</style>\n<table border=\"1\" class=\"dataframe\">\n  <thead>\n    <tr style=\"text-align: right;\">\n      <th></th>\n      <th>unique_key</th>\n      <th>dt</th>\n      <th>day</th>\n      <th>month</th>\n      <th>year</th>\n      <th>State</th>\n      <th>AverageTemperature</th>\n      <th>AverageTemperatureUncertainty</th>\n    </tr>\n  </thead>\n  <tbody>\n    <tr>\n      <th>0</th>\n      <td>7458</td>\n      <td>1743-11-01</td>\n      <td>1</td>\n      <td>11</td>\n      <td>1743</td>\n      <td>Alabama</td>\n      <td>10.722</td>\n      <td>2.898</td>\n    </tr>\n    <tr>\n      <th>1</th>\n      <td>7459</td>\n      <td>1743-12-01</td>\n      <td>1</td>\n      <td>12</td>\n      <td>1743</td>\n      <td>Alabama</td>\n      <td>NaN</td>\n      <td>NaN</td>\n    </tr>\n    <tr>\n      <th>2</th>\n      <td>7460</td>\n      <td>1744-01-01</td>\n      <td>1</td>\n      <td>1</td>\n      <td>1744</td>\n      <td>Alabama</td>\n      <td>NaN</td>\n      <td>NaN</td>\n    </tr>\n    <tr>\n      <th>3</th>\n      <td>7461</td>\n      <td>1744-02-01</td>\n      <td>1</td>\n      <td>2</td>\n      <td>1744</td>\n      <td>Alabama</td>\n      <td>NaN</td>\n      <td>NaN</td>\n    </tr>\n    <tr>\n      <th>4</th>\n      <td>7462</td>\n      <td>1744-03-01</td>\n      <td>1</td>\n      <td>3</td>\n      <td>1744</td>\n      <td>Alabama</td>\n      <td>NaN</td>\n      <td>NaN</td>\n    </tr>\n    <tr>\n      <th>...</th>\n      <td>...</td>\n      <td>...</td>\n      <td>...</td>\n      <td>...</td>\n      <td>...</td>\n      <td>...</td>\n      <td>...</td>\n      <td>...</td>\n    </tr>\n    <tr>\n      <th>149740</th>\n      <td>626435</td>\n      <td>2013-05-01</td>\n      <td>1</td>\n      <td>5</td>\n      <td>2013</td>\n      <td>Wyoming</td>\n      <td>10.607</td>\n      <td>0.208</td>\n    </tr>\n    <tr>\n      <th>149741</th>\n      <td>626436</td>\n      <td>2013-06-01</td>\n      <td>1</td>\n      <td>6</td>\n      <td>2013</td>\n      <td>Wyoming</td>\n      <td>16.267</td>\n      <td>0.276</td>\n    </tr>\n    <tr>\n      <th>149742</th>\n      <td>626437</td>\n      <td>2013-07-01</td>\n      <td>1</td>\n      <td>7</td>\n      <td>2013</td>\n      <td>Wyoming</td>\n      <td>20.222</td>\n      <td>0.133</td>\n    </tr>\n    <tr>\n      <th>149743</th>\n      <td>626438</td>\n      <td>2013-08-01</td>\n      <td>1</td>\n      <td>8</td>\n      <td>2013</td>\n      <td>Wyoming</td>\n      <td>19.621</td>\n      <td>0.217</td>\n    </tr>\n    <tr>\n      <th>149744</th>\n      <td>626439</td>\n      <td>2013-09-01</td>\n      <td>1</td>\n      <td>9</td>\n      <td>2013</td>\n      <td>Wyoming</td>\n      <td>15.811</td>\n      <td>1.101</td>\n    </tr>\n  </tbody>\n</table>\n<p>149745 rows × 8 columns</p>\n</div>"
     },
     "execution_count": 80,
     "metadata": {},
     "output_type": "execute_result"
    }
   ],
   "source": [
    "climate_data_per_state[\"dt\"] = pd.to_datetime(climate_data_per_state[\"dt\"])\n",
    "climate_data_per_state.reset_index(inplace=True)\n",
    "climate_data_per_state[\"day\"] = climate_data_per_state[\"dt\"].dt.day\n",
    "climate_data_per_state[\"month\"] = climate_data_per_state[\"dt\"].dt.month\n",
    "climate_data_per_state[\"year\"] = climate_data_per_state[\"dt\"].dt.year\n",
    "climate_data_per_state.rename(columns={\"index\": \"unique_key\"}, inplace=True)\n",
    "climate_data_per_state"
   ],
   "metadata": {
    "collapsed": false,
    "pycharm": {
     "name": "#%%\n"
    }
   }
  },
  {
   "cell_type": "code",
   "execution_count": 81,
   "outputs": [
    {
     "data": {
      "text/plain": "        unique_key         dt  day  month  year    State  AverageTemperature  \\\n149740      626435 2013-05-01    1      5  2013  Wyoming              10.607   \n149741      626436 2013-06-01    1      6  2013  Wyoming              16.267   \n149742      626437 2013-07-01    1      7  2013  Wyoming              20.222   \n149743      626438 2013-08-01    1      8  2013  Wyoming              19.621   \n149744      626439 2013-09-01    1      9  2013  Wyoming              15.811   \n\n        AverageTemperatureUncertainty  \n149740                          0.208  \n149741                          0.276  \n149742                          0.133  \n149743                          0.217  \n149744                          1.101  ",
      "text/html": "<div>\n<style scoped>\n    .dataframe tbody tr th:only-of-type {\n        vertical-align: middle;\n    }\n\n    .dataframe tbody tr th {\n        vertical-align: top;\n    }\n\n    .dataframe thead th {\n        text-align: right;\n    }\n</style>\n<table border=\"1\" class=\"dataframe\">\n  <thead>\n    <tr style=\"text-align: right;\">\n      <th></th>\n      <th>unique_key</th>\n      <th>dt</th>\n      <th>day</th>\n      <th>month</th>\n      <th>year</th>\n      <th>State</th>\n      <th>AverageTemperature</th>\n      <th>AverageTemperatureUncertainty</th>\n    </tr>\n  </thead>\n  <tbody>\n    <tr>\n      <th>149740</th>\n      <td>626435</td>\n      <td>2013-05-01</td>\n      <td>1</td>\n      <td>5</td>\n      <td>2013</td>\n      <td>Wyoming</td>\n      <td>10.607</td>\n      <td>0.208</td>\n    </tr>\n    <tr>\n      <th>149741</th>\n      <td>626436</td>\n      <td>2013-06-01</td>\n      <td>1</td>\n      <td>6</td>\n      <td>2013</td>\n      <td>Wyoming</td>\n      <td>16.267</td>\n      <td>0.276</td>\n    </tr>\n    <tr>\n      <th>149742</th>\n      <td>626437</td>\n      <td>2013-07-01</td>\n      <td>1</td>\n      <td>7</td>\n      <td>2013</td>\n      <td>Wyoming</td>\n      <td>20.222</td>\n      <td>0.133</td>\n    </tr>\n    <tr>\n      <th>149743</th>\n      <td>626438</td>\n      <td>2013-08-01</td>\n      <td>1</td>\n      <td>8</td>\n      <td>2013</td>\n      <td>Wyoming</td>\n      <td>19.621</td>\n      <td>0.217</td>\n    </tr>\n    <tr>\n      <th>149744</th>\n      <td>626439</td>\n      <td>2013-09-01</td>\n      <td>1</td>\n      <td>9</td>\n      <td>2013</td>\n      <td>Wyoming</td>\n      <td>15.811</td>\n      <td>1.101</td>\n    </tr>\n  </tbody>\n</table>\n</div>"
     },
     "execution_count": 81,
     "metadata": {},
     "output_type": "execute_result"
    }
   ],
   "source": [
    "climate_data_per_state.tail()"
   ],
   "metadata": {
    "collapsed": false,
    "pycharm": {
     "name": "#%%\n"
    }
   }
  },
  {
   "cell_type": "code",
   "execution_count": 99,
   "outputs": [],
   "source": [
    "climate_data_per_state.to_csv(\"../climate_data.csv\")"
   ],
   "metadata": {
    "collapsed": false,
    "pycharm": {
     "name": "#%%\n"
    }
   }
  },
  {
   "cell_type": "markdown",
   "source": [
    "# Crime data"
   ],
   "metadata": {
    "collapsed": false,
    "pycharm": {
     "name": "#%% md\n"
    }
   }
  },
  {
   "cell_type": "code",
   "execution_count": 92,
   "outputs": [
    {
     "data": {
      "text/plain": "             ind_id                                 ind_definition  \\\n49217           752  Number of Violent Crimes per 1,000 Population   \n49218           752  Number of Violent Crimes per 1,000 Population   \n49219           752  Number of Violent Crimes per 1,000 Population   \n49220           752  Number of Violent Crimes per 1,000 Population   \n49221           752  Number of Violent Crimes per 1,000 Population   \n49222           752  Number of Violent Crimes per 1,000 Population   \n49223           752  Number of Violent Crimes per 1,000 Population   \n49224           752  Number of Violent Crimes per 1,000 Population   \n49225           752  Number of Violent Crimes per 1,000 Population   \n49226  END OF TABLE                                            NaN   \n\n       reportyear  race_eth_code race_eth_name geotype  geotypevalue  \\\n49217      2013.0            9.0         Total      RE          13.0   \n49218      2013.0            9.0         Total      RE          13.0   \n49219      2013.0            9.0         Total      RE          13.0   \n49220      2013.0            9.0         Total      RE          13.0   \n49221      2013.0            9.0         Total      RE          14.0   \n49222      2013.0            9.0         Total      RE          14.0   \n49223      2013.0            9.0         Total      RE          14.0   \n49224      2013.0            9.0         Total      RE          14.0   \n49225      2013.0            9.0         Total      RE          14.0   \n49226         NaN            NaN           NaN     NaN           NaN   \n\n                   geoname  county_fips county_name  ...  denominator  \\\n49217               Shasta          NaN         NaN  ...     179250.0   \n49218               Shasta          NaN         NaN  ...     179250.0   \n49219               Shasta          NaN         NaN  ...     179250.0   \n49220               Shasta          NaN         NaN  ...     179250.0   \n49221  Southern California          NaN         NaN  ...   18543759.0   \n49222  Southern California          NaN         NaN  ...   18543759.0   \n49223  Southern California          NaN         NaN  ...   18543759.0   \n49224  Southern California          NaN         NaN  ...   18543759.0   \n49225  Southern California          NaN         NaN  ...   18543759.0   \n49226                  NaN          NaN         NaN  ...          NaN   \n\n           rate   ll_95ci   ul_95ci        se       rse  ca_decile     ca_rr  \\\n49217       NaN       NaN       NaN       NaN       NaN        NaN       NaN   \n49218       NaN       NaN       NaN       NaN       NaN        NaN       NaN   \n49219       NaN       NaN       NaN       NaN       NaN        NaN       NaN   \n49220  6.415621  6.044815  6.786426  0.189186  2.948839        NaN  1.620500   \n49221       NaN       NaN       NaN       NaN       NaN        NaN       NaN   \n49222       NaN       NaN       NaN       NaN       NaN        NaN       NaN   \n49223       NaN       NaN       NaN       NaN       NaN        NaN       NaN   \n49224       NaN       NaN       NaN       NaN       NaN        NaN       NaN   \n49225  3.408640  3.382067  3.435214  0.013558  0.397750        NaN  0.860977   \n49226       NaN       NaN       NaN       NaN       NaN        NaN       NaN   \n\n       dof_population             version  \n49217        178591.0 2015-10-21 11:57:42  \n49218        178591.0 2015-10-21 11:57:42  \n49219        178591.0 2015-10-21 11:57:42  \n49220        178591.0 2015-10-21 11:57:42  \n49221      18482091.0 2015-10-21 11:57:42  \n49222      18482091.0 2015-10-21 11:57:42  \n49223      18482091.0 2015-10-21 11:57:42  \n49224      18482091.0 2015-10-21 11:57:42  \n49225      18482091.0 2015-10-21 11:57:42  \n49226             NaN                 NaT  \n\n[10 rows x 27 columns]",
      "text/html": "<div>\n<style scoped>\n    .dataframe tbody tr th:only-of-type {\n        vertical-align: middle;\n    }\n\n    .dataframe tbody tr th {\n        vertical-align: top;\n    }\n\n    .dataframe thead th {\n        text-align: right;\n    }\n</style>\n<table border=\"1\" class=\"dataframe\">\n  <thead>\n    <tr style=\"text-align: right;\">\n      <th></th>\n      <th>ind_id</th>\n      <th>ind_definition</th>\n      <th>reportyear</th>\n      <th>race_eth_code</th>\n      <th>race_eth_name</th>\n      <th>geotype</th>\n      <th>geotypevalue</th>\n      <th>geoname</th>\n      <th>county_fips</th>\n      <th>county_name</th>\n      <th>...</th>\n      <th>denominator</th>\n      <th>rate</th>\n      <th>ll_95ci</th>\n      <th>ul_95ci</th>\n      <th>se</th>\n      <th>rse</th>\n      <th>ca_decile</th>\n      <th>ca_rr</th>\n      <th>dof_population</th>\n      <th>version</th>\n    </tr>\n  </thead>\n  <tbody>\n    <tr>\n      <th>49217</th>\n      <td>752</td>\n      <td>Number of Violent Crimes per 1,000 Population</td>\n      <td>2013.0</td>\n      <td>9.0</td>\n      <td>Total</td>\n      <td>RE</td>\n      <td>13.0</td>\n      <td>Shasta</td>\n      <td>NaN</td>\n      <td>NaN</td>\n      <td>...</td>\n      <td>179250.0</td>\n      <td>NaN</td>\n      <td>NaN</td>\n      <td>NaN</td>\n      <td>NaN</td>\n      <td>NaN</td>\n      <td>NaN</td>\n      <td>NaN</td>\n      <td>178591.0</td>\n      <td>2015-10-21 11:57:42</td>\n    </tr>\n    <tr>\n      <th>49218</th>\n      <td>752</td>\n      <td>Number of Violent Crimes per 1,000 Population</td>\n      <td>2013.0</td>\n      <td>9.0</td>\n      <td>Total</td>\n      <td>RE</td>\n      <td>13.0</td>\n      <td>Shasta</td>\n      <td>NaN</td>\n      <td>NaN</td>\n      <td>...</td>\n      <td>179250.0</td>\n      <td>NaN</td>\n      <td>NaN</td>\n      <td>NaN</td>\n      <td>NaN</td>\n      <td>NaN</td>\n      <td>NaN</td>\n      <td>NaN</td>\n      <td>178591.0</td>\n      <td>2015-10-21 11:57:42</td>\n    </tr>\n    <tr>\n      <th>49219</th>\n      <td>752</td>\n      <td>Number of Violent Crimes per 1,000 Population</td>\n      <td>2013.0</td>\n      <td>9.0</td>\n      <td>Total</td>\n      <td>RE</td>\n      <td>13.0</td>\n      <td>Shasta</td>\n      <td>NaN</td>\n      <td>NaN</td>\n      <td>...</td>\n      <td>179250.0</td>\n      <td>NaN</td>\n      <td>NaN</td>\n      <td>NaN</td>\n      <td>NaN</td>\n      <td>NaN</td>\n      <td>NaN</td>\n      <td>NaN</td>\n      <td>178591.0</td>\n      <td>2015-10-21 11:57:42</td>\n    </tr>\n    <tr>\n      <th>49220</th>\n      <td>752</td>\n      <td>Number of Violent Crimes per 1,000 Population</td>\n      <td>2013.0</td>\n      <td>9.0</td>\n      <td>Total</td>\n      <td>RE</td>\n      <td>13.0</td>\n      <td>Shasta</td>\n      <td>NaN</td>\n      <td>NaN</td>\n      <td>...</td>\n      <td>179250.0</td>\n      <td>6.415621</td>\n      <td>6.044815</td>\n      <td>6.786426</td>\n      <td>0.189186</td>\n      <td>2.948839</td>\n      <td>NaN</td>\n      <td>1.620500</td>\n      <td>178591.0</td>\n      <td>2015-10-21 11:57:42</td>\n    </tr>\n    <tr>\n      <th>49221</th>\n      <td>752</td>\n      <td>Number of Violent Crimes per 1,000 Population</td>\n      <td>2013.0</td>\n      <td>9.0</td>\n      <td>Total</td>\n      <td>RE</td>\n      <td>14.0</td>\n      <td>Southern California</td>\n      <td>NaN</td>\n      <td>NaN</td>\n      <td>...</td>\n      <td>18543759.0</td>\n      <td>NaN</td>\n      <td>NaN</td>\n      <td>NaN</td>\n      <td>NaN</td>\n      <td>NaN</td>\n      <td>NaN</td>\n      <td>NaN</td>\n      <td>18482091.0</td>\n      <td>2015-10-21 11:57:42</td>\n    </tr>\n    <tr>\n      <th>49222</th>\n      <td>752</td>\n      <td>Number of Violent Crimes per 1,000 Population</td>\n      <td>2013.0</td>\n      <td>9.0</td>\n      <td>Total</td>\n      <td>RE</td>\n      <td>14.0</td>\n      <td>Southern California</td>\n      <td>NaN</td>\n      <td>NaN</td>\n      <td>...</td>\n      <td>18543759.0</td>\n      <td>NaN</td>\n      <td>NaN</td>\n      <td>NaN</td>\n      <td>NaN</td>\n      <td>NaN</td>\n      <td>NaN</td>\n      <td>NaN</td>\n      <td>18482091.0</td>\n      <td>2015-10-21 11:57:42</td>\n    </tr>\n    <tr>\n      <th>49223</th>\n      <td>752</td>\n      <td>Number of Violent Crimes per 1,000 Population</td>\n      <td>2013.0</td>\n      <td>9.0</td>\n      <td>Total</td>\n      <td>RE</td>\n      <td>14.0</td>\n      <td>Southern California</td>\n      <td>NaN</td>\n      <td>NaN</td>\n      <td>...</td>\n      <td>18543759.0</td>\n      <td>NaN</td>\n      <td>NaN</td>\n      <td>NaN</td>\n      <td>NaN</td>\n      <td>NaN</td>\n      <td>NaN</td>\n      <td>NaN</td>\n      <td>18482091.0</td>\n      <td>2015-10-21 11:57:42</td>\n    </tr>\n    <tr>\n      <th>49224</th>\n      <td>752</td>\n      <td>Number of Violent Crimes per 1,000 Population</td>\n      <td>2013.0</td>\n      <td>9.0</td>\n      <td>Total</td>\n      <td>RE</td>\n      <td>14.0</td>\n      <td>Southern California</td>\n      <td>NaN</td>\n      <td>NaN</td>\n      <td>...</td>\n      <td>18543759.0</td>\n      <td>NaN</td>\n      <td>NaN</td>\n      <td>NaN</td>\n      <td>NaN</td>\n      <td>NaN</td>\n      <td>NaN</td>\n      <td>NaN</td>\n      <td>18482091.0</td>\n      <td>2015-10-21 11:57:42</td>\n    </tr>\n    <tr>\n      <th>49225</th>\n      <td>752</td>\n      <td>Number of Violent Crimes per 1,000 Population</td>\n      <td>2013.0</td>\n      <td>9.0</td>\n      <td>Total</td>\n      <td>RE</td>\n      <td>14.0</td>\n      <td>Southern California</td>\n      <td>NaN</td>\n      <td>NaN</td>\n      <td>...</td>\n      <td>18543759.0</td>\n      <td>3.408640</td>\n      <td>3.382067</td>\n      <td>3.435214</td>\n      <td>0.013558</td>\n      <td>0.397750</td>\n      <td>NaN</td>\n      <td>0.860977</td>\n      <td>18482091.0</td>\n      <td>2015-10-21 11:57:42</td>\n    </tr>\n    <tr>\n      <th>49226</th>\n      <td>END OF TABLE</td>\n      <td>NaN</td>\n      <td>NaN</td>\n      <td>NaN</td>\n      <td>NaN</td>\n      <td>NaN</td>\n      <td>NaN</td>\n      <td>NaN</td>\n      <td>NaN</td>\n      <td>NaN</td>\n      <td>...</td>\n      <td>NaN</td>\n      <td>NaN</td>\n      <td>NaN</td>\n      <td>NaN</td>\n      <td>NaN</td>\n      <td>NaN</td>\n      <td>NaN</td>\n      <td>NaN</td>\n      <td>NaN</td>\n      <td>NaT</td>\n    </tr>\n  </tbody>\n</table>\n<p>10 rows × 27 columns</p>\n</div>"
     },
     "execution_count": 92,
     "metadata": {},
     "output_type": "execute_result"
    }
   ],
   "source": [
    "data_excel_crime = pd.read_excel(\"/home/ark/PycharmProjects/crime-dashboard/data/raw_data/crime/original/violent-crime-rate-california-2000-2013.xlsx\", sheet_name='ViolentCrime')\n",
    "data_excel_crime.tail(10)"
   ],
   "metadata": {
    "collapsed": false,
    "pycharm": {
     "name": "#%%\n"
    }
   }
  },
  {
   "cell_type": "code",
   "execution_count": 93,
   "outputs": [
    {
     "data": {
      "text/plain": "(49227, 27)"
     },
     "execution_count": 93,
     "metadata": {},
     "output_type": "execute_result"
    }
   ],
   "source": [
    "data_excel_crime.shape"
   ],
   "metadata": {
    "collapsed": false,
    "pycharm": {
     "name": "#%%\n"
    }
   }
  },
  {
   "cell_type": "code",
   "execution_count": 94,
   "outputs": [
    {
     "data": {
      "text/plain": "             ind_id  reportyear  race_eth_code race_eth_name geotype  \\\n0               752      2000.0            9.0         Total      CA   \n1               752      2000.0            9.0         Total      CA   \n2               752      2000.0            9.0         Total      CA   \n3               752      2000.0            9.0         Total      CA   \n4               752      2000.0            9.0         Total      CA   \n...             ...         ...            ...           ...     ...   \n49222           752      2013.0            9.0         Total      RE   \n49223           752      2013.0            9.0         Total      RE   \n49224           752      2013.0            9.0         Total      RE   \n49225           752      2013.0            9.0         Total      RE   \n49226  END OF TABLE         NaN            NaN           NaN     NaN   \n\n       geotypevalue              geoname  county_fips county_name  \\\n0               6.0           California          NaN         NaN   \n1               6.0           California          NaN         NaN   \n2               6.0           California          NaN         NaN   \n3               6.0           California          NaN         NaN   \n4               6.0           California          NaN         NaN   \n...             ...                  ...          ...         ...   \n49222          14.0  Southern California          NaN         NaN   \n49223          14.0  Southern California          NaN         NaN   \n49224          14.0  Southern California          NaN         NaN   \n49225          14.0  Southern California          NaN         NaN   \n49226           NaN                  NaN          NaN         NaN   \n\n       region_code  ... numerator  denominator      rate   ll_95ci   ul_95ci  \\\n0              NaN  ...  138325.0   33847694.0       NaN       NaN       NaN   \n1              NaN  ...    9784.0   33847694.0       NaN       NaN       NaN   \n2              NaN  ...    2079.0   33847694.0       NaN       NaN       NaN   \n3              NaN  ...   60237.0   33847694.0       NaN       NaN       NaN   \n4              NaN  ...  210448.0   33847694.0  6.217499  6.190935  6.244063   \n...            ...  ...       ...          ...       ...       ...       ...   \n49222         14.0  ...    3048.0   18543759.0       NaN       NaN       NaN   \n49223         14.0  ...     849.0   18543759.0       NaN       NaN       NaN   \n49224         14.0  ...   24221.0   18543759.0       NaN       NaN       NaN   \n49225         14.0  ...   63209.0   18543759.0  3.408640  3.382067  3.435214   \n49226          NaN  ...       NaN          NaN       NaN       NaN       NaN   \n\n             se       rse  ca_decile     ca_rr  dof_population  \n0           NaN       NaN        NaN       NaN      33873086.0  \n1           NaN       NaN        NaN       NaN      33873086.0  \n2           NaN       NaN        NaN       NaN      33873086.0  \n3           NaN       NaN        NaN       NaN      33873086.0  \n4      0.013553  0.217985        NaN  1.000000      33873086.0  \n...         ...       ...        ...       ...             ...  \n49222       NaN       NaN        NaN       NaN      18482091.0  \n49223       NaN       NaN        NaN       NaN      18482091.0  \n49224       NaN       NaN        NaN       NaN      18482091.0  \n49225  0.013558  0.397750        NaN  0.860977      18482091.0  \n49226       NaN       NaN        NaN       NaN             NaN  \n\n[49227 rows x 24 columns]",
      "text/html": "<div>\n<style scoped>\n    .dataframe tbody tr th:only-of-type {\n        vertical-align: middle;\n    }\n\n    .dataframe tbody tr th {\n        vertical-align: top;\n    }\n\n    .dataframe thead th {\n        text-align: right;\n    }\n</style>\n<table border=\"1\" class=\"dataframe\">\n  <thead>\n    <tr style=\"text-align: right;\">\n      <th></th>\n      <th>ind_id</th>\n      <th>reportyear</th>\n      <th>race_eth_code</th>\n      <th>race_eth_name</th>\n      <th>geotype</th>\n      <th>geotypevalue</th>\n      <th>geoname</th>\n      <th>county_fips</th>\n      <th>county_name</th>\n      <th>region_code</th>\n      <th>...</th>\n      <th>numerator</th>\n      <th>denominator</th>\n      <th>rate</th>\n      <th>ll_95ci</th>\n      <th>ul_95ci</th>\n      <th>se</th>\n      <th>rse</th>\n      <th>ca_decile</th>\n      <th>ca_rr</th>\n      <th>dof_population</th>\n    </tr>\n  </thead>\n  <tbody>\n    <tr>\n      <th>0</th>\n      <td>752</td>\n      <td>2000.0</td>\n      <td>9.0</td>\n      <td>Total</td>\n      <td>CA</td>\n      <td>6.0</td>\n      <td>California</td>\n      <td>NaN</td>\n      <td>NaN</td>\n      <td>NaN</td>\n      <td>...</td>\n      <td>138325.0</td>\n      <td>33847694.0</td>\n      <td>NaN</td>\n      <td>NaN</td>\n      <td>NaN</td>\n      <td>NaN</td>\n      <td>NaN</td>\n      <td>NaN</td>\n      <td>NaN</td>\n      <td>33873086.0</td>\n    </tr>\n    <tr>\n      <th>1</th>\n      <td>752</td>\n      <td>2000.0</td>\n      <td>9.0</td>\n      <td>Total</td>\n      <td>CA</td>\n      <td>6.0</td>\n      <td>California</td>\n      <td>NaN</td>\n      <td>NaN</td>\n      <td>NaN</td>\n      <td>...</td>\n      <td>9784.0</td>\n      <td>33847694.0</td>\n      <td>NaN</td>\n      <td>NaN</td>\n      <td>NaN</td>\n      <td>NaN</td>\n      <td>NaN</td>\n      <td>NaN</td>\n      <td>NaN</td>\n      <td>33873086.0</td>\n    </tr>\n    <tr>\n      <th>2</th>\n      <td>752</td>\n      <td>2000.0</td>\n      <td>9.0</td>\n      <td>Total</td>\n      <td>CA</td>\n      <td>6.0</td>\n      <td>California</td>\n      <td>NaN</td>\n      <td>NaN</td>\n      <td>NaN</td>\n      <td>...</td>\n      <td>2079.0</td>\n      <td>33847694.0</td>\n      <td>NaN</td>\n      <td>NaN</td>\n      <td>NaN</td>\n      <td>NaN</td>\n      <td>NaN</td>\n      <td>NaN</td>\n      <td>NaN</td>\n      <td>33873086.0</td>\n    </tr>\n    <tr>\n      <th>3</th>\n      <td>752</td>\n      <td>2000.0</td>\n      <td>9.0</td>\n      <td>Total</td>\n      <td>CA</td>\n      <td>6.0</td>\n      <td>California</td>\n      <td>NaN</td>\n      <td>NaN</td>\n      <td>NaN</td>\n      <td>...</td>\n      <td>60237.0</td>\n      <td>33847694.0</td>\n      <td>NaN</td>\n      <td>NaN</td>\n      <td>NaN</td>\n      <td>NaN</td>\n      <td>NaN</td>\n      <td>NaN</td>\n      <td>NaN</td>\n      <td>33873086.0</td>\n    </tr>\n    <tr>\n      <th>4</th>\n      <td>752</td>\n      <td>2000.0</td>\n      <td>9.0</td>\n      <td>Total</td>\n      <td>CA</td>\n      <td>6.0</td>\n      <td>California</td>\n      <td>NaN</td>\n      <td>NaN</td>\n      <td>NaN</td>\n      <td>...</td>\n      <td>210448.0</td>\n      <td>33847694.0</td>\n      <td>6.217499</td>\n      <td>6.190935</td>\n      <td>6.244063</td>\n      <td>0.013553</td>\n      <td>0.217985</td>\n      <td>NaN</td>\n      <td>1.000000</td>\n      <td>33873086.0</td>\n    </tr>\n    <tr>\n      <th>...</th>\n      <td>...</td>\n      <td>...</td>\n      <td>...</td>\n      <td>...</td>\n      <td>...</td>\n      <td>...</td>\n      <td>...</td>\n      <td>...</td>\n      <td>...</td>\n      <td>...</td>\n      <td>...</td>\n      <td>...</td>\n      <td>...</td>\n      <td>...</td>\n      <td>...</td>\n      <td>...</td>\n      <td>...</td>\n      <td>...</td>\n      <td>...</td>\n      <td>...</td>\n      <td>...</td>\n    </tr>\n    <tr>\n      <th>49222</th>\n      <td>752</td>\n      <td>2013.0</td>\n      <td>9.0</td>\n      <td>Total</td>\n      <td>RE</td>\n      <td>14.0</td>\n      <td>Southern California</td>\n      <td>NaN</td>\n      <td>NaN</td>\n      <td>14.0</td>\n      <td>...</td>\n      <td>3048.0</td>\n      <td>18543759.0</td>\n      <td>NaN</td>\n      <td>NaN</td>\n      <td>NaN</td>\n      <td>NaN</td>\n      <td>NaN</td>\n      <td>NaN</td>\n      <td>NaN</td>\n      <td>18482091.0</td>\n    </tr>\n    <tr>\n      <th>49223</th>\n      <td>752</td>\n      <td>2013.0</td>\n      <td>9.0</td>\n      <td>Total</td>\n      <td>RE</td>\n      <td>14.0</td>\n      <td>Southern California</td>\n      <td>NaN</td>\n      <td>NaN</td>\n      <td>14.0</td>\n      <td>...</td>\n      <td>849.0</td>\n      <td>18543759.0</td>\n      <td>NaN</td>\n      <td>NaN</td>\n      <td>NaN</td>\n      <td>NaN</td>\n      <td>NaN</td>\n      <td>NaN</td>\n      <td>NaN</td>\n      <td>18482091.0</td>\n    </tr>\n    <tr>\n      <th>49224</th>\n      <td>752</td>\n      <td>2013.0</td>\n      <td>9.0</td>\n      <td>Total</td>\n      <td>RE</td>\n      <td>14.0</td>\n      <td>Southern California</td>\n      <td>NaN</td>\n      <td>NaN</td>\n      <td>14.0</td>\n      <td>...</td>\n      <td>24221.0</td>\n      <td>18543759.0</td>\n      <td>NaN</td>\n      <td>NaN</td>\n      <td>NaN</td>\n      <td>NaN</td>\n      <td>NaN</td>\n      <td>NaN</td>\n      <td>NaN</td>\n      <td>18482091.0</td>\n    </tr>\n    <tr>\n      <th>49225</th>\n      <td>752</td>\n      <td>2013.0</td>\n      <td>9.0</td>\n      <td>Total</td>\n      <td>RE</td>\n      <td>14.0</td>\n      <td>Southern California</td>\n      <td>NaN</td>\n      <td>NaN</td>\n      <td>14.0</td>\n      <td>...</td>\n      <td>63209.0</td>\n      <td>18543759.0</td>\n      <td>3.408640</td>\n      <td>3.382067</td>\n      <td>3.435214</td>\n      <td>0.013558</td>\n      <td>0.397750</td>\n      <td>NaN</td>\n      <td>0.860977</td>\n      <td>18482091.0</td>\n    </tr>\n    <tr>\n      <th>49226</th>\n      <td>END OF TABLE</td>\n      <td>NaN</td>\n      <td>NaN</td>\n      <td>NaN</td>\n      <td>NaN</td>\n      <td>NaN</td>\n      <td>NaN</td>\n      <td>NaN</td>\n      <td>NaN</td>\n      <td>NaN</td>\n      <td>...</td>\n      <td>NaN</td>\n      <td>NaN</td>\n      <td>NaN</td>\n      <td>NaN</td>\n      <td>NaN</td>\n      <td>NaN</td>\n      <td>NaN</td>\n      <td>NaN</td>\n      <td>NaN</td>\n      <td>NaN</td>\n    </tr>\n  </tbody>\n</table>\n<p>49227 rows × 24 columns</p>\n</div>"
     },
     "execution_count": 94,
     "metadata": {},
     "output_type": "execute_result"
    }
   ],
   "source": [
    "data_excel_crime = data_excel_crime.drop(['ind_definition', 'strata_name','version'\t], axis=1)\n",
    "data_excel_crime"
   ],
   "metadata": {
    "collapsed": false,
    "pycharm": {
     "name": "#%%\n"
    }
   }
  },
  {
   "cell_type": "code",
   "execution_count": 95,
   "outputs": [
    {
     "data": {
      "text/plain": "ind_id                        0\nreportyear                    1\nrace_eth_code                 1\nrace_eth_name                 1\ngeotype                       1\ngeotypevalue                  1\ngeoname                       1\ncounty_fips                1051\ncounty_name                1051\nregion_code                  71\nregion_name                  71\nstrata_name_code              1\nstrata_level_name_code        1\nstrata_level_name             1\nnumerator                 16934\ndenominator               12137\nrate                      41904\nll_95ci                   41904\nul_95ci                   41904\nse                        41904\nrse                       41904\nca_decile                 42926\nca_rr                     41904\ndof_population            10567\ndtype: int64"
     },
     "execution_count": 95,
     "metadata": {},
     "output_type": "execute_result"
    }
   ],
   "source": [
    "data_excel_crime.isnull().sum()"
   ],
   "metadata": {
    "collapsed": false,
    "pycharm": {
     "name": "#%%\n"
    }
   }
  },
  {
   "cell_type": "code",
   "execution_count": 96,
   "outputs": [
    {
     "data": {
      "text/plain": "ind_id                        0\nreportyear                    1\nrace_eth_code                 1\nrace_eth_name                 1\ngeotype                       1\ngeotypevalue                  1\ngeoname                       1\ncounty_fips                1051\ncounty_name                1051\nregion_code                  71\nregion_name                  71\nstrata_name_code              1\nstrata_level_name_code        1\nstrata_level_name             1\nnumerator                 16934\ndenominator               12137\nrate                      41904\nll_95ci                   41904\nul_95ci                   41904\nse                        41904\nrse                       41904\nca_decile                 42926\nca_rr                     41904\ndof_population            10567\ndtype: int64"
     },
     "execution_count": 96,
     "metadata": {},
     "output_type": "execute_result"
    }
   ],
   "source": [
    "data_excel_crime.isnull().sum()"
   ],
   "metadata": {
    "collapsed": false,
    "pycharm": {
     "name": "#%%\n"
    }
   }
  },
  {
   "cell_type": "code",
   "execution_count": 97,
   "outputs": [
    {
     "data": {
      "text/plain": "   index ind_id  reportyear  race_eth_code race_eth_name geotype  \\\n0      0    752      2000.0            9.0         Total      CA   \n1      1    752      2000.0            9.0         Total      CA   \n2      2    752      2000.0            9.0         Total      CA   \n3      3    752      2000.0            9.0         Total      CA   \n4      4    752      2000.0            9.0         Total      CA   \n\n   geotypevalue     geoname  county_fips county_name  ...  numerator  \\\n0           6.0  California          NaN         NaN  ...   138325.0   \n1           6.0  California          NaN         NaN  ...     9784.0   \n2           6.0  California          NaN         NaN  ...     2079.0   \n3           6.0  California          NaN         NaN  ...    60237.0   \n4           6.0  California          NaN         NaN  ...   210448.0   \n\n  denominator      rate   ll_95ci   ul_95ci        se       rse  ca_decile  \\\n0  33847694.0       NaN       NaN       NaN       NaN       NaN        NaN   \n1  33847694.0       NaN       NaN       NaN       NaN       NaN        NaN   \n2  33847694.0       NaN       NaN       NaN       NaN       NaN        NaN   \n3  33847694.0       NaN       NaN       NaN       NaN       NaN        NaN   \n4  33847694.0  6.217499  6.190935  6.244063  0.013553  0.217985        NaN   \n\n   ca_rr  dof_population  \n0    NaN      33873086.0  \n1    NaN      33873086.0  \n2    NaN      33873086.0  \n3    NaN      33873086.0  \n4    1.0      33873086.0  \n\n[5 rows x 25 columns]",
      "text/html": "<div>\n<style scoped>\n    .dataframe tbody tr th:only-of-type {\n        vertical-align: middle;\n    }\n\n    .dataframe tbody tr th {\n        vertical-align: top;\n    }\n\n    .dataframe thead th {\n        text-align: right;\n    }\n</style>\n<table border=\"1\" class=\"dataframe\">\n  <thead>\n    <tr style=\"text-align: right;\">\n      <th></th>\n      <th>index</th>\n      <th>ind_id</th>\n      <th>reportyear</th>\n      <th>race_eth_code</th>\n      <th>race_eth_name</th>\n      <th>geotype</th>\n      <th>geotypevalue</th>\n      <th>geoname</th>\n      <th>county_fips</th>\n      <th>county_name</th>\n      <th>...</th>\n      <th>numerator</th>\n      <th>denominator</th>\n      <th>rate</th>\n      <th>ll_95ci</th>\n      <th>ul_95ci</th>\n      <th>se</th>\n      <th>rse</th>\n      <th>ca_decile</th>\n      <th>ca_rr</th>\n      <th>dof_population</th>\n    </tr>\n  </thead>\n  <tbody>\n    <tr>\n      <th>0</th>\n      <td>0</td>\n      <td>752</td>\n      <td>2000.0</td>\n      <td>9.0</td>\n      <td>Total</td>\n      <td>CA</td>\n      <td>6.0</td>\n      <td>California</td>\n      <td>NaN</td>\n      <td>NaN</td>\n      <td>...</td>\n      <td>138325.0</td>\n      <td>33847694.0</td>\n      <td>NaN</td>\n      <td>NaN</td>\n      <td>NaN</td>\n      <td>NaN</td>\n      <td>NaN</td>\n      <td>NaN</td>\n      <td>NaN</td>\n      <td>33873086.0</td>\n    </tr>\n    <tr>\n      <th>1</th>\n      <td>1</td>\n      <td>752</td>\n      <td>2000.0</td>\n      <td>9.0</td>\n      <td>Total</td>\n      <td>CA</td>\n      <td>6.0</td>\n      <td>California</td>\n      <td>NaN</td>\n      <td>NaN</td>\n      <td>...</td>\n      <td>9784.0</td>\n      <td>33847694.0</td>\n      <td>NaN</td>\n      <td>NaN</td>\n      <td>NaN</td>\n      <td>NaN</td>\n      <td>NaN</td>\n      <td>NaN</td>\n      <td>NaN</td>\n      <td>33873086.0</td>\n    </tr>\n    <tr>\n      <th>2</th>\n      <td>2</td>\n      <td>752</td>\n      <td>2000.0</td>\n      <td>9.0</td>\n      <td>Total</td>\n      <td>CA</td>\n      <td>6.0</td>\n      <td>California</td>\n      <td>NaN</td>\n      <td>NaN</td>\n      <td>...</td>\n      <td>2079.0</td>\n      <td>33847694.0</td>\n      <td>NaN</td>\n      <td>NaN</td>\n      <td>NaN</td>\n      <td>NaN</td>\n      <td>NaN</td>\n      <td>NaN</td>\n      <td>NaN</td>\n      <td>33873086.0</td>\n    </tr>\n    <tr>\n      <th>3</th>\n      <td>3</td>\n      <td>752</td>\n      <td>2000.0</td>\n      <td>9.0</td>\n      <td>Total</td>\n      <td>CA</td>\n      <td>6.0</td>\n      <td>California</td>\n      <td>NaN</td>\n      <td>NaN</td>\n      <td>...</td>\n      <td>60237.0</td>\n      <td>33847694.0</td>\n      <td>NaN</td>\n      <td>NaN</td>\n      <td>NaN</td>\n      <td>NaN</td>\n      <td>NaN</td>\n      <td>NaN</td>\n      <td>NaN</td>\n      <td>33873086.0</td>\n    </tr>\n    <tr>\n      <th>4</th>\n      <td>4</td>\n      <td>752</td>\n      <td>2000.0</td>\n      <td>9.0</td>\n      <td>Total</td>\n      <td>CA</td>\n      <td>6.0</td>\n      <td>California</td>\n      <td>NaN</td>\n      <td>NaN</td>\n      <td>...</td>\n      <td>210448.0</td>\n      <td>33847694.0</td>\n      <td>6.217499</td>\n      <td>6.190935</td>\n      <td>6.244063</td>\n      <td>0.013553</td>\n      <td>0.217985</td>\n      <td>NaN</td>\n      <td>1.0</td>\n      <td>33873086.0</td>\n    </tr>\n  </tbody>\n</table>\n<p>5 rows × 25 columns</p>\n</div>"
     },
     "execution_count": 97,
     "metadata": {},
     "output_type": "execute_result"
    }
   ],
   "source": [
    "data_excel_crime.reset_index(inplace=True)\n",
    "data_excel_crime.head()"
   ],
   "metadata": {
    "collapsed": false,
    "pycharm": {
     "name": "#%%\n"
    }
   }
  },
  {
   "cell_type": "code",
   "execution_count": 98,
   "outputs": [
    {
     "data": {
      "text/plain": "   unique_key ind_id  reportyear  race_eth_code race_eth_name geotype  \\\n0           0    752      2000.0            9.0         Total      CA   \n1           1    752      2000.0            9.0         Total      CA   \n2           2    752      2000.0            9.0         Total      CA   \n3           3    752      2000.0            9.0         Total      CA   \n4           4    752      2000.0            9.0         Total      CA   \n\n   geotypevalue     geoname  county_fips county_name  ...  numerator  \\\n0           6.0  California          NaN         NaN  ...   138325.0   \n1           6.0  California          NaN         NaN  ...     9784.0   \n2           6.0  California          NaN         NaN  ...     2079.0   \n3           6.0  California          NaN         NaN  ...    60237.0   \n4           6.0  California          NaN         NaN  ...   210448.0   \n\n  denominator      rate   ll_95ci   ul_95ci        se       rse  ca_decile  \\\n0  33847694.0       NaN       NaN       NaN       NaN       NaN        NaN   \n1  33847694.0       NaN       NaN       NaN       NaN       NaN        NaN   \n2  33847694.0       NaN       NaN       NaN       NaN       NaN        NaN   \n3  33847694.0       NaN       NaN       NaN       NaN       NaN        NaN   \n4  33847694.0  6.217499  6.190935  6.244063  0.013553  0.217985        NaN   \n\n   ca_rr  dof_population  \n0    NaN      33873086.0  \n1    NaN      33873086.0  \n2    NaN      33873086.0  \n3    NaN      33873086.0  \n4    1.0      33873086.0  \n\n[5 rows x 25 columns]",
      "text/html": "<div>\n<style scoped>\n    .dataframe tbody tr th:only-of-type {\n        vertical-align: middle;\n    }\n\n    .dataframe tbody tr th {\n        vertical-align: top;\n    }\n\n    .dataframe thead th {\n        text-align: right;\n    }\n</style>\n<table border=\"1\" class=\"dataframe\">\n  <thead>\n    <tr style=\"text-align: right;\">\n      <th></th>\n      <th>unique_key</th>\n      <th>ind_id</th>\n      <th>reportyear</th>\n      <th>race_eth_code</th>\n      <th>race_eth_name</th>\n      <th>geotype</th>\n      <th>geotypevalue</th>\n      <th>geoname</th>\n      <th>county_fips</th>\n      <th>county_name</th>\n      <th>...</th>\n      <th>numerator</th>\n      <th>denominator</th>\n      <th>rate</th>\n      <th>ll_95ci</th>\n      <th>ul_95ci</th>\n      <th>se</th>\n      <th>rse</th>\n      <th>ca_decile</th>\n      <th>ca_rr</th>\n      <th>dof_population</th>\n    </tr>\n  </thead>\n  <tbody>\n    <tr>\n      <th>0</th>\n      <td>0</td>\n      <td>752</td>\n      <td>2000.0</td>\n      <td>9.0</td>\n      <td>Total</td>\n      <td>CA</td>\n      <td>6.0</td>\n      <td>California</td>\n      <td>NaN</td>\n      <td>NaN</td>\n      <td>...</td>\n      <td>138325.0</td>\n      <td>33847694.0</td>\n      <td>NaN</td>\n      <td>NaN</td>\n      <td>NaN</td>\n      <td>NaN</td>\n      <td>NaN</td>\n      <td>NaN</td>\n      <td>NaN</td>\n      <td>33873086.0</td>\n    </tr>\n    <tr>\n      <th>1</th>\n      <td>1</td>\n      <td>752</td>\n      <td>2000.0</td>\n      <td>9.0</td>\n      <td>Total</td>\n      <td>CA</td>\n      <td>6.0</td>\n      <td>California</td>\n      <td>NaN</td>\n      <td>NaN</td>\n      <td>...</td>\n      <td>9784.0</td>\n      <td>33847694.0</td>\n      <td>NaN</td>\n      <td>NaN</td>\n      <td>NaN</td>\n      <td>NaN</td>\n      <td>NaN</td>\n      <td>NaN</td>\n      <td>NaN</td>\n      <td>33873086.0</td>\n    </tr>\n    <tr>\n      <th>2</th>\n      <td>2</td>\n      <td>752</td>\n      <td>2000.0</td>\n      <td>9.0</td>\n      <td>Total</td>\n      <td>CA</td>\n      <td>6.0</td>\n      <td>California</td>\n      <td>NaN</td>\n      <td>NaN</td>\n      <td>...</td>\n      <td>2079.0</td>\n      <td>33847694.0</td>\n      <td>NaN</td>\n      <td>NaN</td>\n      <td>NaN</td>\n      <td>NaN</td>\n      <td>NaN</td>\n      <td>NaN</td>\n      <td>NaN</td>\n      <td>33873086.0</td>\n    </tr>\n    <tr>\n      <th>3</th>\n      <td>3</td>\n      <td>752</td>\n      <td>2000.0</td>\n      <td>9.0</td>\n      <td>Total</td>\n      <td>CA</td>\n      <td>6.0</td>\n      <td>California</td>\n      <td>NaN</td>\n      <td>NaN</td>\n      <td>...</td>\n      <td>60237.0</td>\n      <td>33847694.0</td>\n      <td>NaN</td>\n      <td>NaN</td>\n      <td>NaN</td>\n      <td>NaN</td>\n      <td>NaN</td>\n      <td>NaN</td>\n      <td>NaN</td>\n      <td>33873086.0</td>\n    </tr>\n    <tr>\n      <th>4</th>\n      <td>4</td>\n      <td>752</td>\n      <td>2000.0</td>\n      <td>9.0</td>\n      <td>Total</td>\n      <td>CA</td>\n      <td>6.0</td>\n      <td>California</td>\n      <td>NaN</td>\n      <td>NaN</td>\n      <td>...</td>\n      <td>210448.0</td>\n      <td>33847694.0</td>\n      <td>6.217499</td>\n      <td>6.190935</td>\n      <td>6.244063</td>\n      <td>0.013553</td>\n      <td>0.217985</td>\n      <td>NaN</td>\n      <td>1.0</td>\n      <td>33873086.0</td>\n    </tr>\n  </tbody>\n</table>\n<p>5 rows × 25 columns</p>\n</div>"
     },
     "execution_count": 98,
     "metadata": {},
     "output_type": "execute_result"
    }
   ],
   "source": [
    "data_excel_crime.rename(columns={'index': 'unique_key'}, inplace=True)\n",
    "data_excel_crime.head()"
   ],
   "metadata": {
    "collapsed": false,
    "pycharm": {
     "name": "#%%\n"
    }
   }
  },
  {
   "cell_type": "code",
   "execution_count": 100,
   "outputs": [],
   "source": [
    "data_excel_crime.to_csv(\"../data/crime_data.csv\")"
   ],
   "metadata": {
    "collapsed": false,
    "pycharm": {
     "name": "#%%\n"
    }
   }
  },
  {
   "cell_type": "markdown",
   "source": [
    "# Climate zones"
   ],
   "metadata": {
    "collapsed": false,
    "pycharm": {
     "name": "#%% md\n"
    }
   }
  },
  {
   "cell_type": "code",
   "execution_count": 102,
   "outputs": [
    {
     "data": {
      "text/plain": "    OBJECTID BZone      BAcerage  SHAPE_Length  SHAPE_Area  \\\n0          1     1  2.263098e+06     13.164776    0.969484   \n1          2    10  2.008073e+06      6.270269    0.788794   \n2          3    11  5.852273e+06     11.391989    2.488994   \n3          4    12  7.639111e+06     12.667741    3.168116   \n4          5    13  8.154006e+06     10.594912    3.304840   \n5          6    14  1.682699e+07     27.812704    6.721220   \n6          7    15  7.372182e+06     17.724274    2.897959   \n7          8    16  3.458417e+07     52.696295   14.552049   \n8          9     2  5.027297e+06     12.214513    2.127322   \n9         10     3  2.041871e+06     18.196224    0.836750   \n10        11     4  4.580379e+06     13.339328    1.855955   \n11        12     5  1.965020e+06      7.926630    0.784135   \n12        13     6  6.275005e+05     10.310435    0.247934   \n13        14     7  4.556979e+05      4.760606    0.177999   \n14        15     8  5.234582e+05      2.898644    0.206205   \n15        16     9  1.036771e+06      5.535105    0.410526   \n\n                                             geometry  \n0   MULTIPOLYGON Z (((-124.09750 41.96808 0.00000,...  \n1   MULTIPOLYGON Z (((-117.37140 34.20782 1.00000,...  \n2   MULTIPOLYGON Z (((-121.91380 40.95895 0.00000,...  \n3   MULTIPOLYGON Z (((-120.89250 38.94104 0.00000,...  \n4   MULTIPOLYGON Z (((-119.62390 37.37152 0.00000,...  \n5   MULTIPOLYGON Z (((-117.35770 37.03979 0.00000,...  \n6   MULTIPOLYGON Z (((-114.63090 34.98526 0.00000,...  \n7   MULTIPOLYGON Z (((-124.10215 41.99669 0.00000,...  \n8   MULTIPOLYGON Z (((-123.49820 41.37890 0.00000,...  \n9   MULTIPOLYGON Z (((-122.22420 38.06489 0.00000,...  \n10  MULTIPOLYGON Z (((-121.47690 37.47838 1.00000,...  \n11  MULTIPOLYGON Z (((-121.33186 35.79513 0.00000,...  \n12  MULTIPOLYGON Z (((-119.44567 34.34677 0.00000,...  \n13  MULTIPOLYGON Z (((-117.36570 33.45990 1.00000,...  \n14  MULTIPOLYGON Z (((-118.27180 34.03676 1.00000,...  \n15  MULTIPOLYGON Z (((-118.62830 34.55103 0.00000,...  ",
      "text/html": "<div>\n<style scoped>\n    .dataframe tbody tr th:only-of-type {\n        vertical-align: middle;\n    }\n\n    .dataframe tbody tr th {\n        vertical-align: top;\n    }\n\n    .dataframe thead th {\n        text-align: right;\n    }\n</style>\n<table border=\"1\" class=\"dataframe\">\n  <thead>\n    <tr style=\"text-align: right;\">\n      <th></th>\n      <th>OBJECTID</th>\n      <th>BZone</th>\n      <th>BAcerage</th>\n      <th>SHAPE_Length</th>\n      <th>SHAPE_Area</th>\n      <th>geometry</th>\n    </tr>\n  </thead>\n  <tbody>\n    <tr>\n      <th>0</th>\n      <td>1</td>\n      <td>1</td>\n      <td>2.263098e+06</td>\n      <td>13.164776</td>\n      <td>0.969484</td>\n      <td>MULTIPOLYGON Z (((-124.09750 41.96808 0.00000,...</td>\n    </tr>\n    <tr>\n      <th>1</th>\n      <td>2</td>\n      <td>10</td>\n      <td>2.008073e+06</td>\n      <td>6.270269</td>\n      <td>0.788794</td>\n      <td>MULTIPOLYGON Z (((-117.37140 34.20782 1.00000,...</td>\n    </tr>\n    <tr>\n      <th>2</th>\n      <td>3</td>\n      <td>11</td>\n      <td>5.852273e+06</td>\n      <td>11.391989</td>\n      <td>2.488994</td>\n      <td>MULTIPOLYGON Z (((-121.91380 40.95895 0.00000,...</td>\n    </tr>\n    <tr>\n      <th>3</th>\n      <td>4</td>\n      <td>12</td>\n      <td>7.639111e+06</td>\n      <td>12.667741</td>\n      <td>3.168116</td>\n      <td>MULTIPOLYGON Z (((-120.89250 38.94104 0.00000,...</td>\n    </tr>\n    <tr>\n      <th>4</th>\n      <td>5</td>\n      <td>13</td>\n      <td>8.154006e+06</td>\n      <td>10.594912</td>\n      <td>3.304840</td>\n      <td>MULTIPOLYGON Z (((-119.62390 37.37152 0.00000,...</td>\n    </tr>\n    <tr>\n      <th>5</th>\n      <td>6</td>\n      <td>14</td>\n      <td>1.682699e+07</td>\n      <td>27.812704</td>\n      <td>6.721220</td>\n      <td>MULTIPOLYGON Z (((-117.35770 37.03979 0.00000,...</td>\n    </tr>\n    <tr>\n      <th>6</th>\n      <td>7</td>\n      <td>15</td>\n      <td>7.372182e+06</td>\n      <td>17.724274</td>\n      <td>2.897959</td>\n      <td>MULTIPOLYGON Z (((-114.63090 34.98526 0.00000,...</td>\n    </tr>\n    <tr>\n      <th>7</th>\n      <td>8</td>\n      <td>16</td>\n      <td>3.458417e+07</td>\n      <td>52.696295</td>\n      <td>14.552049</td>\n      <td>MULTIPOLYGON Z (((-124.10215 41.99669 0.00000,...</td>\n    </tr>\n    <tr>\n      <th>8</th>\n      <td>9</td>\n      <td>2</td>\n      <td>5.027297e+06</td>\n      <td>12.214513</td>\n      <td>2.127322</td>\n      <td>MULTIPOLYGON Z (((-123.49820 41.37890 0.00000,...</td>\n    </tr>\n    <tr>\n      <th>9</th>\n      <td>10</td>\n      <td>3</td>\n      <td>2.041871e+06</td>\n      <td>18.196224</td>\n      <td>0.836750</td>\n      <td>MULTIPOLYGON Z (((-122.22420 38.06489 0.00000,...</td>\n    </tr>\n    <tr>\n      <th>10</th>\n      <td>11</td>\n      <td>4</td>\n      <td>4.580379e+06</td>\n      <td>13.339328</td>\n      <td>1.855955</td>\n      <td>MULTIPOLYGON Z (((-121.47690 37.47838 1.00000,...</td>\n    </tr>\n    <tr>\n      <th>11</th>\n      <td>12</td>\n      <td>5</td>\n      <td>1.965020e+06</td>\n      <td>7.926630</td>\n      <td>0.784135</td>\n      <td>MULTIPOLYGON Z (((-121.33186 35.79513 0.00000,...</td>\n    </tr>\n    <tr>\n      <th>12</th>\n      <td>13</td>\n      <td>6</td>\n      <td>6.275005e+05</td>\n      <td>10.310435</td>\n      <td>0.247934</td>\n      <td>MULTIPOLYGON Z (((-119.44567 34.34677 0.00000,...</td>\n    </tr>\n    <tr>\n      <th>13</th>\n      <td>14</td>\n      <td>7</td>\n      <td>4.556979e+05</td>\n      <td>4.760606</td>\n      <td>0.177999</td>\n      <td>MULTIPOLYGON Z (((-117.36570 33.45990 1.00000,...</td>\n    </tr>\n    <tr>\n      <th>14</th>\n      <td>15</td>\n      <td>8</td>\n      <td>5.234582e+05</td>\n      <td>2.898644</td>\n      <td>0.206205</td>\n      <td>MULTIPOLYGON Z (((-118.27180 34.03676 1.00000,...</td>\n    </tr>\n    <tr>\n      <th>15</th>\n      <td>16</td>\n      <td>9</td>\n      <td>1.036771e+06</td>\n      <td>5.535105</td>\n      <td>0.410526</td>\n      <td>MULTIPOLYGON Z (((-118.62830 34.55103 0.00000,...</td>\n    </tr>\n  </tbody>\n</table>\n</div>"
     },
     "execution_count": 102,
     "metadata": {},
     "output_type": "execute_result"
    }
   ],
   "source": [
    "import geopandas as gpd\n",
    "data = gpd.read_file(\"../data/raw_data/climate/California_Building_Climate_Zones.geojson\")\n",
    "data"
   ],
   "metadata": {
    "collapsed": false,
    "pycharm": {
     "name": "#%%\n"
    }
   }
  }
 ],
 "metadata": {
  "kernelspec": {
   "display_name": "Python 3",
   "language": "python",
   "name": "python3"
  },
  "language_info": {
   "codemirror_mode": {
    "name": "ipython",
    "version": 2
   },
   "file_extension": ".py",
   "mimetype": "text/x-python",
   "name": "python",
   "nbconvert_exporter": "python",
   "pygments_lexer": "ipython2",
   "version": "2.7.6"
  }
 },
 "nbformat": 4,
 "nbformat_minor": 0
}